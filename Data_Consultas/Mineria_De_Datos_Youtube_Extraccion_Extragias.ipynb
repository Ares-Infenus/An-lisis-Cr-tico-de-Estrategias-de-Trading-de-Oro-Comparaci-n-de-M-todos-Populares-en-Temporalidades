{
 "cells": [
  {
   "cell_type": "code",
   "execution_count": 4,
   "metadata": {},
   "outputs": [],
   "source": [
    "import pandas as pd\n",
    "import numpy as np\n",
    "\n",
    "\n",
    "Español_result = pd.read_csv('C:/Users/spinz/OneDrive/Desktop/Proyect article Scientist/Data_Consultas/Resultados/Español_result.csv')\n",
    "Ingles_result = pd.read_csv('C:/Users/spinz/OneDrive/Desktop/Proyect article Scientist/Data_Consultas/Resultados/Ingles_result.csv')"
   ]
  },
  {
   "cell_type": "code",
   "execution_count": 3,
   "metadata": {},
   "outputs": [
    {
     "name": "stdout",
     "output_type": "stream",
     "text": [
      "Subtítulos automáticos en inglés descargados y guardados como 'subtitulos_automaticos_ingles.txt'.\n"
     ]
    }
   ],
   "source": [
    "from youtube_transcript_api import YouTubeTranscriptApi\n",
    "\n",
    "# ID del video de YouTube (extraído de la URL del video)\n",
    "video_id = \"O2-oSMyzTzs\"  # Reemplaza con el ID del video\n",
    "\n",
    "\n",
    "try:\n",
    "    # Obtener transcripción (subtítulos automáticos si es lo único disponible)\n",
    "    transcript = YouTubeTranscriptApi.get_transcript(video_id, languages=['en'])\n",
    "\n",
    "    # Crear una lista para almacenar los textos\n",
    "    text_list = []\n",
    "\n",
    "    # Iterar a través de las transcripciones\n",
    "    for entry in transcript:\n",
    "        text_list.append(entry['text'])  # Agregar solo el texto, sin marcas de tiempo\n",
    "\n",
    "    # Unir los textos en un solo párrafo\n",
    "    full_text = ' '.join(text_list)\n",
    "\n",
    "    # Opción: Agregar saltos de línea para párrafos (puedes personalizar esto)\n",
    "    # Puedes separar las líneas originales por un espacio o un salto de línea\n",
    "    # full_text = '\\n'.join(text_list)  # Esto agrega un salto de línea entre cada línea\n",
    "\n",
    "    # Guardar el texto limpio en un archivo .txt\n",
    "    with open('subtitulos_automaticos_ingles.txt', 'w', encoding='utf-8') as f:\n",
    "        f.write(full_text)\n",
    "\n",
    "    print(\"Subtítulos automáticos en inglés descargados y guardados como 'subtitulos_automaticos_ingles.txt'.\")\n",
    "except Exception as e:\n",
    "    print(f\"Error al descargar subtítulos automáticos: {e}\")"
   ]
  },
  {
   "cell_type": "code",
   "execution_count": 6,
   "metadata": {},
   "outputs": [],
   "source": [
    "import spacy\n",
    "\n",
    "# Cargar el modelo en español\n",
    "nlp = spacy.load(\"xx_ent_wiki_sm\")"
   ]
  },
  {
   "cell_type": "code",
   "execution_count": null,
   "metadata": {},
   "outputs": [],
   "source": [
    "python -m spacy download es_core_news_sm\n"
   ]
  },
  {
   "cell_type": "code",
   "execution_count": null,
   "metadata": {},
   "outputs": [],
   "source": []
  }
 ],
 "metadata": {
  "kernelspec": {
   "display_name": "base",
   "language": "python",
   "name": "python3"
  },
  "language_info": {
   "codemirror_mode": {
    "name": "ipython",
    "version": 3
   },
   "file_extension": ".py",
   "mimetype": "text/x-python",
   "name": "python",
   "nbconvert_exporter": "python",
   "pygments_lexer": "ipython3",
   "version": "3.11.7"
  }
 },
 "nbformat": 4,
 "nbformat_minor": 2
}
