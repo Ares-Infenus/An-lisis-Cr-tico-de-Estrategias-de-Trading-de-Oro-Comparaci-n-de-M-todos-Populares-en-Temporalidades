{
 "cells": [
  {
   "cell_type": "code",
   "execution_count": 1,
   "metadata": {},
   "outputs": [],
   "source": [
    "# LIBRERIAS NECESARIAS\n",
    "import pandas as pd\n",
    "import glob\n",
    "\n",
    "#Importar DATOS\n",
    "# Encuentra todos los archivos CSV en la carpeta actual (o en una carpeta específica)\n",
    "csv_files = glob.glob('/home/emperor/Documents/Proyecto_Proto-Articulo_Cientifico/An-lisis-Cr-tico-de-EStrategias-de-Trading-de-Oro-Comparaci-n-de-M-todos-Populares-en-Temporalidades/Data/15 Minutos/BTCUSD/BID/*.csv')\n"
   ]
  },
  {
   "cell_type": "code",
   "execution_count": 2,
   "metadata": {},
   "outputs": [],
   "source": [
    "# Importar y concatenar todos los archivos CSV en un solo DataFrame\n",
    "df_unido = pd.concat((pd.read_csv(file) for file in csv_files), ignore_index=True)\n",
    "# Convertir la columna 'Local time' a datetime\n",
    "df_unido['Local time'] = pd.to_datetime(df_unido['Local time'], format='%d.%m.%Y %H:%M:%S.%f GMT%z', errors='coerce')\n",
    "# Concatenar los dos DataFrames\n",
    "# Eliminar duplicados basados en la columna 'Local time'\n",
    "df_unido = df_unido.drop_duplicates(subset=['Local time'], keep='first')\n",
    "df_unido = df_unido.dropna()\n",
    "# Ordenar de forma descendente por la columna 'Local time'\n",
    "df_unido.sort_values(by='Local time', ascending=True, inplace=True)\n",
    "df_unido.to_csv('BTC_BID 2020-01-01__2024_10_19.csv', index=False)"
   ]
  },
  {
   "cell_type": "markdown",
   "metadata": {},
   "source": [
    "#ASK"
   ]
  },
  {
   "cell_type": "code",
   "execution_count": 3,
   "metadata": {},
   "outputs": [],
   "source": [
    "import pandas as pd\n",
    "import glob\n",
    "\n",
    "# Encuentra todos los archivos CSV en la carpeta actual (o en una carpeta específica)\n",
    "csv_files = glob.glob('/home/emperor/Documents/Proyecto_Proto-Articulo_Cientifico/An-lisis-Cr-tico-de-EStrategias-de-Trading-de-Oro-Comparaci-n-de-M-todos-Populares-en-Temporalidades/Data/15 Minutos/BTCUSD/ASK/*.csv')\n",
    "\n",
    "# Importar y concatenar todos los archivos CSV en un solo DataFrame\n",
    "df_unido_2 = pd.concat((pd.read_csv(file) for file in csv_files), ignore_index=True)\n",
    "\n",
    "# Convertir la columna 'Local time' a datetime\n",
    "df_unido_2['Local time'] = pd.to_datetime(df_unido_2['Local time'], format='%d.%m.%Y %H:%M:%S.%f GMT%z', errors='coerce')\n",
    "# Concatenar los dos DataFrames\n",
    "# Eliminar duplicados basados en la columna 'Local time'\n",
    "df_unido_2 = df_unido_2.drop_duplicates(subset=['Local time'], keep='first')\n",
    "df_unido_2 = df_unido_2.dropna()\n",
    "# Ordenar de forma descendente por la columna 'Local time'\n",
    "df_unido_2.sort_values(by='Local time', ascending=True, inplace=True)\n",
    "df_unido_2.to_csv('BTC_ASK 2020-01-01__2024_10_19.csv', index=False)"
   ]
  }
 ],
 "metadata": {
  "kernelspec": {
   "display_name": "base",
   "language": "python",
   "name": "python3"
  },
  "language_info": {
   "codemirror_mode": {
    "name": "ipython",
    "version": 3
   },
   "file_extension": ".py",
   "mimetype": "text/x-python",
   "name": "python",
   "nbconvert_exporter": "python",
   "pygments_lexer": "ipython3",
   "version": "3.12.4"
  }
 },
 "nbformat": 4,
 "nbformat_minor": 2
}
